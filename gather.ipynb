{
 "cells": [
  {
   "cell_type": "code",
   "execution_count": 1,
   "metadata": {},
   "outputs": [],
   "source": [
    "import gspread\n",
    "from oauth2client.service_account import ServiceAccountCredentials\n",
    "import pandas as pd\n",
    "import numpy as np\n",
    "from datetime import datetime\n",
    "import time"
   ]
  },
  {
   "cell_type": "code",
   "execution_count": 2,
   "metadata": {},
   "outputs": [
    {
     "data": {
      "text/html": [
       "<div>\n",
       "<style scoped>\n",
       "    .dataframe tbody tr th:only-of-type {\n",
       "        vertical-align: middle;\n",
       "    }\n",
       "\n",
       "    .dataframe tbody tr th {\n",
       "        vertical-align: top;\n",
       "    }\n",
       "\n",
       "    .dataframe thead th {\n",
       "        text-align: right;\n",
       "    }\n",
       "</style>\n",
       "<table border=\"1\" class=\"dataframe\">\n",
       "  <thead>\n",
       "    <tr style=\"text-align: right;\">\n",
       "      <th></th>\n",
       "      <th>branch</th>\n",
       "      <th>sheet link</th>\n",
       "    </tr>\n",
       "  </thead>\n",
       "  <tbody>\n",
       "    <tr>\n",
       "      <th>0</th>\n",
       "      <td>Ibrahimia</td>\n",
       "      <td>https://docs.google.com/spreadsheets/d/11L5kQr...</td>\n",
       "    </tr>\n",
       "    <tr>\n",
       "      <th>1</th>\n",
       "      <td>Sidibeshr</td>\n",
       "      <td>https://docs.google.com/spreadsheets/d/1TneMNu...</td>\n",
       "    </tr>\n",
       "    <tr>\n",
       "      <th>2</th>\n",
       "      <td>Wenget</td>\n",
       "      <td>https://docs.google.com/spreadsheets/d/1qg6Bnz...</td>\n",
       "    </tr>\n",
       "    <tr>\n",
       "      <th>3</th>\n",
       "      <td>Mansoura</td>\n",
       "      <td>https://docs.google.com/spreadsheets/d/1BmeHof...</td>\n",
       "    </tr>\n",
       "    <tr>\n",
       "      <th>4</th>\n",
       "      <td>Tanta</td>\n",
       "      <td>https://docs.google.com/spreadsheets/d/1jJbGsT...</td>\n",
       "    </tr>\n",
       "  </tbody>\n",
       "</table>\n",
       "</div>"
      ],
      "text/plain": [
       "      branch                                         sheet link\n",
       "0  Ibrahimia  https://docs.google.com/spreadsheets/d/11L5kQr...\n",
       "1  Sidibeshr  https://docs.google.com/spreadsheets/d/1TneMNu...\n",
       "2     Wenget  https://docs.google.com/spreadsheets/d/1qg6Bnz...\n",
       "3   Mansoura  https://docs.google.com/spreadsheets/d/1BmeHof...\n",
       "4      Tanta  https://docs.google.com/spreadsheets/d/1jJbGsT..."
      ]
     },
     "execution_count": 2,
     "metadata": {},
     "output_type": "execute_result"
    }
   ],
   "source": [
    "scope = ['https://spreadsheets.google.com/feeds', 'https://www.googleapis.com/auth/drive']\n",
    "spreadsheet_id = '1kgc6LUF6z2WKsNZ6wLTZUoTEAxsdnk2zlx3l4V-bF5Q'\n",
    "credentials = ServiceAccountCredentials.from_json_keyfile_name('creds.json', scope)\n",
    "client = gspread.authorize(credentials)\n",
    "spreadsheet = client.open_by_key(spreadsheet_id)\n",
    "sheet_name = 'Talabat links'\n",
    "sheet = spreadsheet.get_worksheet(1)\n",
    "data = sheet.get_all_records()\n",
    "df = pd.DataFrame(data)\n",
    "df.head()"
   ]
  },
  {
   "cell_type": "code",
   "execution_count": 3,
   "metadata": {},
   "outputs": [],
   "source": [
    "branches = list(df.branch[:3])\n",
    "sheet_links = list(df['sheet link'][:3])"
   ]
  },
  {
   "cell_type": "code",
   "execution_count": 4,
   "metadata": {},
   "outputs": [],
   "source": [
    "categories = ['fruit', 'veg', 'leaves', 'dates']  # Categories corresponding to worksheets 0, 1, 2, 3\n",
    "\n",
    "# Assuming branches and sheet_links are lists\n",
    "for branch, sheet_link in zip(branches, sheet_links):  \n",
    "    workbook = client.open_by_url(sheet_link)  # Open the workbook\n",
    "    for idx, category in enumerate(categories):  # Iterate through worksheets and categories\n",
    "        worksheet = workbook.get_worksheet(idx)  # Get the worksheet by index\n",
    "        df_name = f'df_{category}_{branch.lower()}'  # Construct the dynamic DataFrame name\n",
    "        globals()[df_name] = pd.DataFrame(worksheet.get_all_records())  # Create the DataFrame\n"
   ]
  },
  {
   "cell_type": "code",
   "execution_count": 5,
   "metadata": {},
   "outputs": [],
   "source": [
    "for branch in branches:\n",
    "    for category in categories:\n",
    "        df_name = f'df_{category}_{branch.lower()}'  # Construct the dynamic DataFrame name\n",
    "        if df_name in globals():  # Check if the DataFrame exists\n",
    "            globals()[df_name].rename(columns={'stock': branch.lower()}, inplace=True)"
   ]
  },
  {
   "cell_type": "code",
   "execution_count": 6,
   "metadata": {},
   "outputs": [],
   "source": [
    "merged_dfs = {}  # Dictionary to store the merged DataFrames for Alexandria\n",
    "\n",
    "# Loop through each category\n",
    "for category in categories:\n",
    "    # Collect all DataFrames for the current category\n",
    "    dfs = [globals()[f'df_{category}_{branch.lower()}'] for branch in branches]\n",
    "    \n",
    "    # Initialize the merged DataFrame with the first DataFrame\n",
    "    merged_df = dfs[0][['title', 'price', branches[0].lower()]]  # Assuming the branch name column is present\n",
    "    \n",
    "    # Iteratively merge the rest of the DataFrames\n",
    "    for df, branch in zip(dfs[1:], branches[1:]):\n",
    "        branch_column = branch.lower()  # The column to merge\n",
    "        merged_df = pd.merge(\n",
    "            merged_df,\n",
    "            df[['title', 'price', branch_column]],  # Merge by title and the branch column\n",
    "            on='title', how='outer'\n",
    "        )\n",
    "    \n",
    "    # Clean up the 'price' column by combining values\n",
    "    price_columns = [col for col in merged_df.columns if 'price' in col]\n",
    "    merged_df['price'] = merged_df[price_columns].bfill(axis=1).iloc[:, 0]\n",
    "    \n",
    "    # Select relevant columns: 'title', 'price', and branch columns\n",
    "    merged_df = merged_df[['title', 'price'] + [col for col in merged_df.columns if col not in ['price', 'title']]]\n",
    "    \n",
    "    # Store the merged DataFrame in the dictionary\n",
    "    merged_dfs[f'merged_df_{category}_alexandria'] = merged_df"
   ]
  },
  {
   "cell_type": "code",
   "execution_count": 7,
   "metadata": {},
   "outputs": [],
   "source": [
    "for df in merged_dfs:\n",
    "    merged_dfs[df].drop(columns=['price_x', 'price_y'], inplace=True)"
   ]
  },
  {
   "cell_type": "code",
   "execution_count": 8,
   "metadata": {},
   "outputs": [
    {
     "data": {
      "text/plain": [
       "{'spreadsheetId': '1kAi_R4-CQM4oCNUu2YMXGvLUrehbnx6iz0RywZOuxpE',\n",
       " 'tableRange': \"'تمر وفواكه مجففة'!A1:F1\",\n",
       " 'updates': {'spreadsheetId': '1kAi_R4-CQM4oCNUu2YMXGvLUrehbnx6iz0RywZOuxpE',\n",
       "  'updatedRange': \"'تمر وفواكه مجففة'!A2:F16\",\n",
       "  'updatedRows': 15,\n",
       "  'updatedColumns': 6,\n",
       "  'updatedCells': 90}}"
      ]
     },
     "execution_count": 8,
     "metadata": {},
     "output_type": "execute_result"
    }
   ],
   "source": [
    "spreadsheet = client.open_by_url('https://docs.google.com/spreadsheets/d/1kAi_R4-CQM4oCNUu2YMXGvLUrehbnx6iz0RywZOuxpE/edit?gid=579208347')\n",
    "\n",
    "# Select the relevant sheets\n",
    "sheet_fruit = spreadsheet.worksheet('فواكه')\n",
    "sheet_veg = spreadsheet.worksheet('خضروات')\n",
    "sheet_leaves = spreadsheet.worksheet('أعشاب وورقيات')\n",
    "sheet_dates = spreadsheet.worksheet('تمر وفواكه مجففة')\n",
    "\n",
    "# Function to clean invalid float values (NaN, inf, -inf) and replace NaN with 0\n",
    "def clean_invalid_values(df):\n",
    "    def clean_value(x):\n",
    "        if isinstance(x, (float, int)):  # Only process numeric values\n",
    "            if np.isnan(x):\n",
    "                return 0  # Replace NaN with 0\n",
    "            elif np.isinf(x):\n",
    "                return None  # Replace inf/-inf with None\n",
    "        return x  # Return other values unchanged\n",
    "\n",
    "    # Apply the cleaning function element-wise\n",
    "    df = df.applymap(clean_value)\n",
    "    return df\n",
    "\n",
    "# Function to add 'Last Updated' column\n",
    "def add_last_updated_column(df):\n",
    "    # Get the current time\n",
    "    current_time = datetime.now().strftime(\"%Y-%m-%d %H:%M:%S\")\n",
    "    \n",
    "    # Add the 'Last Updated' column with the same value for all rows\n",
    "    df['Last Updated'] = current_time\n",
    "    \n",
    "    return df\n",
    "\n",
    "# Clean your DataFrames\n",
    "merged_df_fruit_alexandria = clean_invalid_values(merged_dfs['merged_df_fruit_alexandria'])\n",
    "merged_df_veg_alexandria = clean_invalid_values(merged_dfs['merged_df_veg_alexandria'])\n",
    "merged_df_leaves_alexandria = clean_invalid_values(merged_dfs['merged_df_leaves_alexandria'])\n",
    "merged_df_dates_alexandria = clean_invalid_values(merged_dfs['merged_df_dates_alexandria'])\n",
    "\n",
    "# Add 'Last Updated' column to each DataFrame\n",
    "merged_df_fruit_alexandria = add_last_updated_column(merged_df_fruit_alexandria)\n",
    "merged_df_veg_alexandria = add_last_updated_column(merged_df_veg_alexandria)\n",
    "merged_df_leaves_alexandria = add_last_updated_column(merged_df_leaves_alexandria)\n",
    "merged_df_dates_alexandria = add_last_updated_column(merged_df_dates_alexandria)\n",
    "\n",
    "# Convert DataFrames to lists of lists\n",
    "fruit_data = merged_df_fruit_alexandria.values.tolist()\n",
    "veg_data = merged_df_veg_alexandria.values.tolist()\n",
    "leaves_data = merged_df_leaves_alexandria.values.tolist()\n",
    "dates_data = merged_df_dates_alexandria.values.tolist()\n",
    "\n",
    "# Prepare header rows (including 'Last Updated' column)\n",
    "fruit_header = merged_df_fruit_alexandria.columns.tolist()\n",
    "veg_header = merged_df_veg_alexandria.columns.tolist()\n",
    "leaves_header = merged_df_leaves_alexandria.columns.tolist()\n",
    "dates_header = merged_df_dates_alexandria.columns.tolist()\n",
    "\n",
    "# Update each sheet with the new DataFrame\n",
    "sheet_fruit.clear()  # Clears the existing content\n",
    "sheet_fruit.append_row(fruit_header)  # Append header\n",
    "sheet_fruit.append_rows(fruit_data)  # Append data\n",
    "\n",
    "sheet_veg.clear()  # Clears the existing content\n",
    "sheet_veg.append_row(veg_header)  # Append header\n",
    "sheet_veg.append_rows(veg_data)  # Append data\n",
    "\n",
    "sheet_leaves.clear()  # Clears the existing content\n",
    "sheet_leaves.append_row(leaves_header)  # Append header\n",
    "sheet_leaves.append_rows(leaves_data)  # Append data\n",
    "\n",
    "sheet_dates.clear()  # Clears the existing content\n",
    "sheet_dates.append_row(dates_header)  # Append header\n",
    "sheet_dates.append_rows(dates_data)  # Append data\n"
   ]
  },
  {
   "cell_type": "code",
   "execution_count": 9,
   "metadata": {},
   "outputs": [
    {
     "data": {
      "text/html": [
       "<div>\n",
       "<style scoped>\n",
       "    .dataframe tbody tr th:only-of-type {\n",
       "        vertical-align: middle;\n",
       "    }\n",
       "\n",
       "    .dataframe tbody tr th {\n",
       "        vertical-align: top;\n",
       "    }\n",
       "\n",
       "    .dataframe thead th {\n",
       "        text-align: right;\n",
       "    }\n",
       "</style>\n",
       "<table border=\"1\" class=\"dataframe\">\n",
       "  <thead>\n",
       "    <tr style=\"text-align: right;\">\n",
       "      <th></th>\n",
       "      <th>branch</th>\n",
       "      <th>sheet link</th>\n",
       "    </tr>\n",
       "  </thead>\n",
       "  <tbody>\n",
       "    <tr>\n",
       "      <th>0</th>\n",
       "      <td>Ibrahimia</td>\n",
       "      <td>https://docs.google.com/spreadsheets/d/11L5kQr...</td>\n",
       "    </tr>\n",
       "    <tr>\n",
       "      <th>1</th>\n",
       "      <td>Sidibeshr</td>\n",
       "      <td>https://docs.google.com/spreadsheets/d/1TneMNu...</td>\n",
       "    </tr>\n",
       "    <tr>\n",
       "      <th>2</th>\n",
       "      <td>Wenget</td>\n",
       "      <td>https://docs.google.com/spreadsheets/d/1qg6Bnz...</td>\n",
       "    </tr>\n",
       "    <tr>\n",
       "      <th>3</th>\n",
       "      <td>Mansoura</td>\n",
       "      <td>https://docs.google.com/spreadsheets/d/1BmeHof...</td>\n",
       "    </tr>\n",
       "    <tr>\n",
       "      <th>4</th>\n",
       "      <td>Tanta</td>\n",
       "      <td>https://docs.google.com/spreadsheets/d/1jJbGsT...</td>\n",
       "    </tr>\n",
       "  </tbody>\n",
       "</table>\n",
       "</div>"
      ],
      "text/plain": [
       "      branch                                         sheet link\n",
       "0  Ibrahimia  https://docs.google.com/spreadsheets/d/11L5kQr...\n",
       "1  Sidibeshr  https://docs.google.com/spreadsheets/d/1TneMNu...\n",
       "2     Wenget  https://docs.google.com/spreadsheets/d/1qg6Bnz...\n",
       "3   Mansoura  https://docs.google.com/spreadsheets/d/1BmeHof...\n",
       "4      Tanta  https://docs.google.com/spreadsheets/d/1jJbGsT..."
      ]
     },
     "execution_count": 9,
     "metadata": {},
     "output_type": "execute_result"
    }
   ],
   "source": [
    "scope = ['https://spreadsheets.google.com/feeds', 'https://www.googleapis.com/auth/drive']\n",
    "spreadsheet_id = '1kgc6LUF6z2WKsNZ6wLTZUoTEAxsdnk2zlx3l4V-bF5Q'\n",
    "credentials = ServiceAccountCredentials.from_json_keyfile_name('creds.json', scope)\n",
    "client = gspread.authorize(credentials)\n",
    "spreadsheet = client.open_by_key(spreadsheet_id)\n",
    "sheet_name = 'Talabat links'\n",
    "sheet = spreadsheet.get_worksheet(1)\n",
    "data = sheet.get_all_records()\n",
    "df = pd.DataFrame(data)\n",
    "df.head()"
   ]
  },
  {
   "cell_type": "code",
   "execution_count": 10,
   "metadata": {},
   "outputs": [],
   "source": [
    "branches = list(df.branch[3:])\n",
    "sheet_links = list(df['sheet link'][3:])"
   ]
  },
  {
   "cell_type": "code",
   "execution_count": 11,
   "metadata": {},
   "outputs": [
    {
     "data": {
      "text/plain": [
       "38"
      ]
     },
     "execution_count": 11,
     "metadata": {},
     "output_type": "execute_result"
    }
   ],
   "source": [
    "len(branches)"
   ]
  },
  {
   "cell_type": "code",
   "execution_count": 12,
   "metadata": {},
   "outputs": [
    {
     "data": {
      "text/plain": [
       "\"\\ncategories = ['fruit', 'veg', 'leaves', 'dates']  # Categories corresponding to worksheets 0, 1, 2, 3\\n\\n# Assuming branches and sheet_links are lists\\nfor branch, sheet_link in zip(branches[:5], sheet_links[:5]):  \\n    workbook = client.open_by_url(sheet_link)  # Open the workbook\\n    for idx, category in enumerate(categories):  # Iterate through worksheets and categories\\n        worksheet = workbook.get_worksheet(idx)  # Get the worksheet by index\\n        df_name = f'df_{category}_{branch.lower()}'  # Construct the dynamic DataFrame name\\n        globals()[df_name] = pd.DataFrame(worksheet.get_all_records())  # Create the DataFrame\\n\\ntime.sleep(60)\\nfor branch, sheet_link in zip(branches[5:10], sheet_links[5:10]):  \\n    workbook = client.open_by_url(sheet_link)  # Open the workbook\\n    for idx, category in enumerate(categories):  # Iterate through worksheets and categories\\n        worksheet = workbook.get_worksheet(idx)  # Get the worksheet by index\\n        df_name = f'df_{category}_{branch.lower()}'  # Construct the dynamic DataFrame name\\n        globals()[df_name] = pd.DataFrame(worksheet.get_all_records())  # Create the DataFrame\\n\\n\""
      ]
     },
     "execution_count": 12,
     "metadata": {},
     "output_type": "execute_result"
    }
   ],
   "source": [
    "'''\n",
    "categories = ['fruit', 'veg', 'leaves', 'dates']  # Categories corresponding to worksheets 0, 1, 2, 3\n",
    "\n",
    "# Assuming branches and sheet_links are lists\n",
    "for branch, sheet_link in zip(branches[:5], sheet_links[:5]):  \n",
    "    workbook = client.open_by_url(sheet_link)  # Open the workbook\n",
    "    for idx, category in enumerate(categories):  # Iterate through worksheets and categories\n",
    "        worksheet = workbook.get_worksheet(idx)  # Get the worksheet by index\n",
    "        df_name = f'df_{category}_{branch.lower()}'  # Construct the dynamic DataFrame name\n",
    "        globals()[df_name] = pd.DataFrame(worksheet.get_all_records())  # Create the DataFrame\n",
    "\n",
    "time.sleep(60)\n",
    "for branch, sheet_link in zip(branches[5:10], sheet_links[5:10]):  \n",
    "    workbook = client.open_by_url(sheet_link)  # Open the workbook\n",
    "    for idx, category in enumerate(categories):  # Iterate through worksheets and categories\n",
    "        worksheet = workbook.get_worksheet(idx)  # Get the worksheet by index\n",
    "        df_name = f'df_{category}_{branch.lower()}'  # Construct the dynamic DataFrame name\n",
    "        globals()[df_name] = pd.DataFrame(worksheet.get_all_records())  # Create the DataFrame\n",
    "\n",
    "'''"
   ]
  },
  {
   "cell_type": "code",
   "execution_count": 13,
   "metadata": {},
   "outputs": [],
   "source": [
    "# Batch size and total branches\n",
    "batch_size = 5\n",
    "total_branches = 38\n",
    "categories = ['fruit', 'veg', 'leaves', 'dates']  # Categories corresponding to worksheets 0, 1, 2, 3\n",
    "# Loop through the batches\n",
    "for start_idx in range(0, total_branches, batch_size):\n",
    "    # Calculate the end index of the current batch\n",
    "    end_idx = min(start_idx + batch_size, total_branches)\n",
    "    \n",
    "    # Process the current batch\n",
    "    for branch, sheet_link in zip(branches[start_idx:end_idx], sheet_links[start_idx:end_idx]):  \n",
    "        workbook = client.open_by_url(sheet_link)  # Open the workbook\n",
    "        for idx, category in enumerate(categories):  # Iterate through worksheets and categories\n",
    "            worksheet = workbook.get_worksheet(idx)  # Get the worksheet by index\n",
    "            df_name = f'df_{category}_{branch.lower()}'  # Construct the dynamic DataFrame name\n",
    "            globals()[df_name] = pd.DataFrame(worksheet.get_all_records())  # Create the DataFrame\n",
    "    \n",
    "    # Pause for 1 minute after processing a batch\n",
    "    time.sleep(60)\n"
   ]
  },
  {
   "cell_type": "code",
   "execution_count": null,
   "metadata": {},
   "outputs": [],
   "source": []
  },
  {
   "cell_type": "code",
   "execution_count": 14,
   "metadata": {},
   "outputs": [],
   "source": [
    "for branch in branches:\n",
    "    for category in categories:\n",
    "        df_name = f'df_{category}_{branch.lower()}'  # Construct the dynamic DataFrame name\n",
    "        if df_name in globals():  # Check if the DataFrame exists\n",
    "            globals()[df_name].rename(columns={'stock': branch.lower()}, inplace=True)"
   ]
  },
  {
   "cell_type": "code",
   "execution_count": 15,
   "metadata": {},
   "outputs": [
    {
     "name": "stderr",
     "output_type": "stream",
     "text": [
      "C:\\Users\\co.magic\\AppData\\Local\\Temp\\ipykernel_13940\\3170939906.py:14: FutureWarning: Passing 'suffixes' which cause duplicate columns {'price_x'} in the result is deprecated and will raise a MergeError in a future version.\n",
      "  merged_df = pd.merge(\n"
     ]
    }
   ],
   "source": [
    "merged_dfs = {}  # Dictionary to store the merged DataFrames for cairo\n",
    "\n",
    "# Loop through each category\n",
    "for category in categories:\n",
    "    # Collect all DataFrames for the current category\n",
    "    dfs = [globals()[f'df_{category}_{branch.lower()}'] for branch in branches]\n",
    "    \n",
    "    # Initialize the merged DataFrame with the first DataFrame\n",
    "    merged_df = dfs[0][['title', 'price', branches[0].lower()]]  # Assuming the branch name column is present\n",
    "    \n",
    "    # Iteratively merge the rest of the DataFrames\n",
    "    for df, branch in zip(dfs[1:], branches[1:]):\n",
    "        branch_column = branch.lower()  # The column to merge\n",
    "        merged_df = pd.merge(\n",
    "            merged_df,\n",
    "            df[['title', 'price', branch_column]],  # Merge by title and the branch column\n",
    "            on='title', how='outer'\n",
    "        )\n",
    "    \n",
    "    # Clean up the 'price' column by combining values\n",
    "    price_columns = [col for col in merged_df.columns if 'price' in col]\n",
    "    merged_df['price'] = merged_df[price_columns].bfill(axis=1).iloc[:, 0]\n",
    "    \n",
    "    # Select relevant columns: 'title', 'price', and branch columns\n",
    "    merged_df = merged_df[['title', 'price'] + [col for col in merged_df.columns if col not in ['price', 'title']]]\n",
    "    \n",
    "    # Store the merged DataFrame in the dictionary\n",
    "    merged_dfs[f'merged_df_{category}_cairo'] = merged_df"
   ]
  },
  {
   "cell_type": "code",
   "execution_count": 16,
   "metadata": {},
   "outputs": [],
   "source": [
    "for df in merged_dfs:\n",
    "    merged_dfs[df].drop(columns=['price_x', 'price_y'], inplace=True)"
   ]
  },
  {
   "cell_type": "code",
   "execution_count": 17,
   "metadata": {},
   "outputs": [
    {
     "data": {
      "text/plain": [
       "{'spreadsheetId': '1UdwMs7MRYOcR5JG5lrjeOF7B0LBjUfThSGmoERrisXY',\n",
       " 'tableRange': \"'تمر وفواكه مجففة'!A1:AO1\",\n",
       " 'updates': {'spreadsheetId': '1UdwMs7MRYOcR5JG5lrjeOF7B0LBjUfThSGmoERrisXY',\n",
       "  'updatedRange': \"'تمر وفواكه مجففة'!A2:AO38\",\n",
       "  'updatedRows': 37,\n",
       "  'updatedColumns': 41,\n",
       "  'updatedCells': 1517}}"
      ]
     },
     "execution_count": 17,
     "metadata": {},
     "output_type": "execute_result"
    }
   ],
   "source": [
    "spreadsheet = client.open_by_url('https://docs.google.com/spreadsheets/d/1UdwMs7MRYOcR5JG5lrjeOF7B0LBjUfThSGmoERrisXY/edit?gid=978012217#gid=978012217')\n",
    "\n",
    "# Select the relevant sheets\n",
    "sheet_fruit = spreadsheet.worksheet('فواكه')\n",
    "sheet_veg = spreadsheet.worksheet('خضروات')\n",
    "sheet_leaves = spreadsheet.worksheet('أعشاب وورقيات')\n",
    "sheet_dates = spreadsheet.worksheet('تمر وفواكه مجففة')\n",
    "\n",
    "# Function to clean invalid float values (NaN, inf, -inf) and replace NaN with 0\n",
    "def clean_invalid_values(df):\n",
    "    def clean_value(x):\n",
    "        if isinstance(x, (float, int)):  # Only process numeric values\n",
    "            if np.isnan(x):\n",
    "                return 0  # Replace NaN with 0\n",
    "            elif np.isinf(x):\n",
    "                return None  # Replace inf/-inf with None\n",
    "        return x  # Return other values unchanged\n",
    "\n",
    "    # Apply the cleaning function element-wise\n",
    "    df = df.applymap(clean_value)\n",
    "    return df\n",
    "\n",
    "# Function to add 'Last Updated' column\n",
    "def add_last_updated_column(df):\n",
    "    # Get the current time\n",
    "    current_time = datetime.now().strftime(\"%Y-%m-%d %H:%M:%S\")\n",
    "    \n",
    "    # Add the 'Last Updated' column with the same value for all rows\n",
    "    df['Last Updated'] = current_time\n",
    "    \n",
    "    return df\n",
    "\n",
    "# Clean your DataFrames\n",
    "merged_df_fruit_cairo = clean_invalid_values(merged_dfs['merged_df_fruit_cairo'])\n",
    "merged_df_veg_cairo = clean_invalid_values(merged_dfs['merged_df_veg_cairo'])\n",
    "merged_df_leaves_cairo = clean_invalid_values(merged_dfs['merged_df_leaves_cairo'])\n",
    "merged_df_dates_cairo = clean_invalid_values(merged_dfs['merged_df_dates_cairo'])\n",
    "\n",
    "# Add 'Last Updated' column to each DataFrame\n",
    "merged_df_fruit_cairo = add_last_updated_column(merged_df_fruit_cairo)\n",
    "merged_df_veg_cairo = add_last_updated_column(merged_df_veg_cairo)\n",
    "merged_df_leaves_cairo = add_last_updated_column(merged_df_leaves_cairo)\n",
    "merged_df_dates_cairo = add_last_updated_column(merged_df_dates_cairo)\n",
    "\n",
    "# Convert DataFrames to lists of lists\n",
    "fruit_data = merged_df_fruit_cairo.values.tolist()\n",
    "veg_data = merged_df_veg_cairo.values.tolist()\n",
    "leaves_data = merged_df_leaves_cairo.values.tolist()\n",
    "dates_data = merged_df_dates_cairo.values.tolist()\n",
    "\n",
    "# Prepare header rows (including 'Last Updated' column)\n",
    "fruit_header = merged_df_fruit_cairo.columns.tolist()\n",
    "veg_header = merged_df_veg_cairo.columns.tolist()\n",
    "leaves_header = merged_df_leaves_cairo.columns.tolist()\n",
    "dates_header = merged_df_dates_cairo.columns.tolist()\n",
    "\n",
    "# Update each sheet with the new DataFrame\n",
    "sheet_fruit.clear()  # Clears the existing content\n",
    "sheet_fruit.append_row(fruit_header)  # Append header\n",
    "sheet_fruit.append_rows(fruit_data)  # Append data\n",
    "\n",
    "sheet_veg.clear()  # Clears the existing content\n",
    "sheet_veg.append_row(veg_header)  # Append header\n",
    "sheet_veg.append_rows(veg_data)  # Append data\n",
    "\n",
    "sheet_leaves.clear()  # Clears the existing content\n",
    "sheet_leaves.append_row(leaves_header)  # Append header\n",
    "sheet_leaves.append_rows(leaves_data)  # Append data\n",
    "\n",
    "sheet_dates.clear()  # Clears the existing content\n",
    "sheet_dates.append_row(dates_header)  # Append header\n",
    "sheet_dates.append_rows(dates_data)  # Append data\n"
   ]
  }
 ],
 "metadata": {
  "kernelspec": {
   "display_name": "Python 3",
   "language": "python",
   "name": "python3"
  },
  "language_info": {
   "codemirror_mode": {
    "name": "ipython",
    "version": 3
   },
   "file_extension": ".py",
   "mimetype": "text/x-python",
   "name": "python",
   "nbconvert_exporter": "python",
   "pygments_lexer": "ipython3",
   "version": "3.9.1"
  }
 },
 "nbformat": 4,
 "nbformat_minor": 2
}
